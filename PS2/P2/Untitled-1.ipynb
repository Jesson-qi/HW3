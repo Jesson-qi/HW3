{
 "cells": [
  {
   "cell_type": "code",
   "execution_count": null,
   "metadata": {},
   "outputs": [
    {
     "ename": "",
     "evalue": "",
     "output_type": "error",
     "traceback": [
      "\u001b[1;31mRunning cells with 'Python 3.11.11' requires the ipykernel package.\n",
      "\u001b[1;31mRun the following command to install 'ipykernel' into the Python environment. \n",
      "\u001b[1;31mCommand: '/bin/python3.11 -m pip install ipykernel -U --user --force-reinstall'"
     ]
    }
   ],
   "source": [
    "import numpy as np\n",
    "import matplotlib.pyplot as plt\n",
    "from numpy import sin, cos, pi, linspace, meshgrid, full_like\n",
    "\n",
    "# Stereographic projection function\n",
    "def stereographic_projection(x, y, z):\n",
    "    denom = 1 - z\n",
    "    x_proj = np.full_like(x, np.nan, dtype=float)\n",
    "    y_proj = np.full_like(y, np.nan, dtype=float)\n",
    "    mask = denom != 0\n",
    "    x_proj[mask] = x[mask] / denom[mask]\n",
    "    y_proj[mask] = y[mask] / denom[mask]\n",
    "    return x_proj, y_proj\n",
    "\n",
    "# Function to generate the unit sphere mesh\n",
    "def generate_sphere_mesh(theta_steps=50, phi_steps=50):\n",
    "    theta = np.linspace(0, np.pi, theta_steps)\n",
    "    phi = np.linspace(0, 2 * np.pi, phi_steps)\n",
    "    theta, phi = np.meshgrid(theta, phi)\n",
    "    x = np.sin(theta) * np.cos(phi)\n",
    "    y = np.sin(theta) * np.sin(phi)\n",
    "    z = np.cos(theta)\n",
    "    return x, y, z, theta, phi\n",
    "\n",
    "# Generate the sphere mesh\n",
    "x, y, z, theta, phi = generate_sphere_mesh()\n",
    "\n",
    "# Define Curve 1: Latitude at 45 degrees (constant theta)\n",
    "t = np.linspace(0, 2 * np.pi, 300)\n",
    "curve1_x = np.sin(np.pi / 4) * np.cos(t)\n",
    "curve1_y = np.sin(np.pi / 4) * np.sin(t)\n",
    "curve1_z = np.cos(np.pi / 4) * np.ones_like(t)\n",
    "\n",
    "# Define Curve 2: A helical-like path on the sphere\n",
    "curve2_x = np.cos(t)\n",
    "curve2_y = np.sin(t)\n",
    "curve2_z = (3 * curve2_x + 3 * curve2_y) / 5\n",
    "magnitude = np.sqrt(curve2_x**2 + curve2_y**2 + curve2_z**2)\n",
    "curve2_x /= magnitude\n",
    "curve2_y /= magnitude\n",
    "curve2_z /= magnitude\n",
    "\n",
    "# Project curves using stereographic projection\n",
    "curve1_proj_x, curve1_proj_y = stereographic_projection(curve1_x, curve1_y, curve1_z)\n",
    "curve2_proj_x, curve2_proj_y = stereographic_projection(curve2_x, curve2_y, curve2_z)\n",
    "\n",
    "# Plot the curves on the sphere\n",
    "fig1 = plt.figure(figsize=(10, 7))\n",
    "ax3d = fig1.add_subplot(111, projection='3d')\n",
    "ax3d.plot_surface(x, y, z, color='lightblue', alpha=0.3, edgecolor='grey')\n",
    "ax3d.plot(curve1_x, curve1_y, curve1_z, label='Latitude (Curve 1)', color='blue')\n",
    "ax3d.plot(curve2_x, curve2_y, curve2_z, label='Helical Path (Curve 2)', color='red')\n",
    "ax3d.set_title('Curves on the Unit Sphere', fontsize=14)\n",
    "ax3d.set_xlabel('$x$', fontsize=12)\n",
    "ax3d.set_ylabel('$y$', fontsize=12)\n",
    "ax3d.set_zlabel('$z$', fontsize=12)\n",
    "ax3d.legend()\n",
    "plt.show()\n",
    "\n",
    "# Plot the curves in the projection plane\n",
    "fig2 = plt.figure(figsize=(10, 7))\n",
    "ax2 = fig2.add_subplot(111)\n",
    "ax2.plot(curve1_proj_x, curve1_proj_y, label='Projected Latitude (Curve 1)', color='blue')\n",
    "ax2.plot(curve2_proj_x, curve2_proj_y, label='Projected Helical Path (Curve 2)', color='red')\n",
    "ax2.set_title('Stereographic Projection of Curves', fontsize=14)\n",
    "ax2.set_xlabel(\"$x'$\", fontsize=12)\n",
    "ax2.set_ylabel(\"$y'$\", fontsize=12)\n",
    "ax2.set_aspect('equal')\n",
    "ax2.legend()\n",
    "plt.show()"
   ]
  }
 ],
 "metadata": {
  "kernelspec": {
   "display_name": "Python 3",
   "language": "python",
   "name": "python3"
  },
  "language_info": {
   "name": "python",
   "version": "3.11.11"
  }
 },
 "nbformat": 4,
 "nbformat_minor": 2
}
